{
 "cells": [
  {
   "cell_type": "code",
   "execution_count": 1,
   "id": "c4ac4798-1e0c-458f-83eb-51c30d01a907",
   "metadata": {},
   "outputs": [
    {
     "data": {
      "text/plain": [
       "'Q1. What are the three measures of central tendency?'"
      ]
     },
     "execution_count": 1,
     "metadata": {},
     "output_type": "execute_result"
    }
   ],
   "source": [
    "'''Q1. What are the three measures of central tendency?'''"
   ]
  },
  {
   "cell_type": "code",
   "execution_count": 2,
   "id": "193c0a0d-a025-456b-bfa9-503d709acda2",
   "metadata": {},
   "outputs": [],
   "source": [
    "# The three measures of central tendencies are ...\n",
    "\n",
    "# 1. Mean\n",
    "\n",
    "# 2. Median\n",
    "\n",
    "# 3. Mode"
   ]
  },
  {
   "cell_type": "code",
   "execution_count": 3,
   "id": "156e6da9-1ec9-4d39-898a-64c694ece6d1",
   "metadata": {},
   "outputs": [
    {
     "data": {
      "text/plain": [
       "'Q2. What is the difference between the mean, median, and mode? How are they used to measure the \\ncentral tendency of a dataset?'"
      ]
     },
     "execution_count": 3,
     "metadata": {},
     "output_type": "execute_result"
    }
   ],
   "source": [
    "'''Q2. What is the difference between the mean, median, and mode? How are they used to measure the \n",
    "central tendency of a dataset?'''"
   ]
  },
  {
   "cell_type": "code",
   "execution_count": 4,
   "id": "9ebef574-b7e5-4f6d-a649-1a044daeba54",
   "metadata": {},
   "outputs": [
    {
     "data": {
      "text/plain": [
       "'Mean is the most commonly used measure of central tendency. It actually represents the average of the given collection of data.\\nIt is applicable for both continuous and discrete data.\\n\\nIt is equal to the sum of all the values in the collection of data divided by the total number of values.'"
      ]
     },
     "execution_count": 4,
     "metadata": {},
     "output_type": "execute_result"
    }
   ],
   "source": [
    "# MEAN\n",
    "\n",
    "'''Mean is the most commonly used measure of central tendency. It actually represents the average of the given collection of data.\n",
    "It is applicable for both continuous and discrete data.\n",
    "\n",
    "It is equal to the sum of all the values in the collection of data divided by the total number of values.'''"
   ]
  },
  {
   "cell_type": "code",
   "execution_count": 5,
   "id": "ed54bcba-3a5d-42a5-bd71-5525d17dbc11",
   "metadata": {},
   "outputs": [],
   "source": [
    "# eg - lets take an exam to understand more\n",
    "\n",
    "import numpy as np\n",
    "Phone = [10,20,30,40,50,60,70,80,90]"
   ]
  },
  {
   "cell_type": "code",
   "execution_count": 7,
   "id": "7a8f395e-cec3-498d-b1a0-fa52b6a39bbe",
   "metadata": {},
   "outputs": [
    {
     "data": {
      "text/plain": [
       "[10, 20, 30, 40, 50, 60, 70, 80, 90]"
      ]
     },
     "execution_count": 7,
     "metadata": {},
     "output_type": "execute_result"
    }
   ],
   "source": [
    "Phone"
   ]
  },
  {
   "cell_type": "code",
   "execution_count": 8,
   "id": "0b26b219-bc59-4600-901f-519a18b2c80f",
   "metadata": {},
   "outputs": [
    {
     "data": {
      "text/plain": [
       "50.0"
      ]
     },
     "execution_count": 8,
     "metadata": {},
     "output_type": "execute_result"
    }
   ],
   "source": [
    "np.mean(Phone)"
   ]
  },
  {
   "cell_type": "code",
   "execution_count": 9,
   "id": "7817c54e-87d1-42ce-b26f-49f170144eee",
   "metadata": {},
   "outputs": [],
   "source": [
    "Ram = [18,56,78,34,62,90,45,76,87,95,73.25]"
   ]
  },
  {
   "cell_type": "code",
   "execution_count": 10,
   "id": "41332484-6e69-4cfb-93a9-479b7d9d2d00",
   "metadata": {},
   "outputs": [
    {
     "data": {
      "text/plain": [
       "64.93181818181819"
      ]
     },
     "execution_count": 10,
     "metadata": {},
     "output_type": "execute_result"
    }
   ],
   "source": [
    "np.mean(Ram)"
   ]
  },
  {
   "cell_type": "code",
   "execution_count": 11,
   "id": "ec94548b-2df9-4fbb-b9d2-0dd9417f1d11",
   "metadata": {},
   "outputs": [
    {
     "data": {
      "text/plain": [
       "'If number of values or observations in the given data is odd, then the median is given by [(n+1)/2]th observation.\\nIf in the given data set, the number of values or observations is even, then the median is given by the average of (n/2)th  and  \\n[(n/2) +1]th observation.'"
      ]
     },
     "execution_count": 11,
     "metadata": {},
     "output_type": "execute_result"
    }
   ],
   "source": [
    "# MEDIAN\n",
    "\n",
    "# Generally median represents the mid-value of the given set of data when arranged in a particular order.\n",
    "\n",
    "# Given that the data collection is arranged in ascending or descending order, the following method is applied:\n",
    "\n",
    "'''If number of values or observations in the given data is odd, then the median is given by [(n+1)/2]th observation.\n",
    "If in the given data set, the number of values or observations is even, then the median is given by the average of (n/2)th  and  \n",
    "[(n/2) +1]th observation.'''"
   ]
  },
  {
   "cell_type": "code",
   "execution_count": 12,
   "id": "fb99f439-111d-4762-b1af-50b9c8159ab7",
   "metadata": {},
   "outputs": [],
   "source": [
    "# eg - lets take the above example"
   ]
  },
  {
   "cell_type": "code",
   "execution_count": 13,
   "id": "57473cb7-d6d4-4100-988d-d3a42a0437f6",
   "metadata": {},
   "outputs": [
    {
     "data": {
      "text/plain": [
       "50.0"
      ]
     },
     "execution_count": 13,
     "metadata": {},
     "output_type": "execute_result"
    }
   ],
   "source": [
    "np.median(Phone)"
   ]
  },
  {
   "cell_type": "code",
   "execution_count": 15,
   "id": "51e425f4-f7df-4f84-b078-ceba4d233c3f",
   "metadata": {},
   "outputs": [
    {
     "data": {
      "text/plain": [
       "73.25"
      ]
     },
     "execution_count": 15,
     "metadata": {},
     "output_type": "execute_result"
    }
   ],
   "source": [
    "np.median(Ram)"
   ]
  },
  {
   "cell_type": "code",
   "execution_count": 16,
   "id": "2bea92e6-05d5-4d8b-81e8-5c299d28c3a0",
   "metadata": {},
   "outputs": [
    {
     "data": {
      "text/plain": [
       "'In this te mode will be 20 because the frequency of 20 is very high'"
      ]
     },
     "execution_count": 16,
     "metadata": {},
     "output_type": "execute_result"
    }
   ],
   "source": [
    "# MODE \n",
    "\n",
    "# The most frequent number occurring in the data set is known as the mode.\n",
    "\n",
    "# eg - Age = [10,20,30,40,20,20,50,60,70,80,90]\n",
    "\n",
    "'''In this te mode will be 20 because the frequency of 20 is very high'''"
   ]
  },
  {
   "cell_type": "code",
   "execution_count": 18,
   "id": "32f9ced1-b2be-44de-ab03-cbc6baea21c0",
   "metadata": {},
   "outputs": [
    {
     "name": "stderr",
     "output_type": "stream",
     "text": [
      "/tmp/ipykernel_77/672164193.py:3: FutureWarning: Unlike other reduction functions (e.g. `skew`, `kurtosis`), the default behavior of `mode` typically preserves the axis it acts along. In SciPy 1.11.0, this behavior will change: the default value of `keepdims` will become False, the `axis` over which the statistic is taken will be eliminated, and the value None will no longer be accepted. Set `keepdims` to True or False to avoid this warning.\n",
      "  stats.mode(Age)\n"
     ]
    },
    {
     "data": {
      "text/plain": [
       "ModeResult(mode=array([20]), count=array([3]))"
      ]
     },
     "execution_count": 18,
     "metadata": {},
     "output_type": "execute_result"
    }
   ],
   "source": [
    "from scipy import stats\n",
    "Age = [10,20,30,40,20,20,50,60,70,80,90]\n",
    "stats.mode(Age)"
   ]
  },
  {
   "cell_type": "code",
   "execution_count": 19,
   "id": "ffc704d3-2a22-4249-90f8-7f24d01c226f",
   "metadata": {},
   "outputs": [
    {
     "data": {
      "text/plain": [
       "'Q3. Measure the three measures of central tendency for the given height data:\\n\\n [178,177,176,177,178.2,178,175,179,180,175,178.9,176.2,177,172.5,178,176.5]'"
      ]
     },
     "execution_count": 19,
     "metadata": {},
     "output_type": "execute_result"
    }
   ],
   "source": [
    "'''Q3. Measure the three measures of central tendency for the given height data:\n",
    "\n",
    " [178,177,176,177,178.2,178,175,179,180,175,178.9,176.2,177,172.5,178,176.5]'''"
   ]
  },
  {
   "cell_type": "code",
   "execution_count": 20,
   "id": "38862f00-4558-477f-844d-83c45a7f69b4",
   "metadata": {},
   "outputs": [],
   "source": [
    "# given data heights =  [178,177,176,177,178.2,178,175,179,180,175,178.9,176.2,177,172.5,178,176.5]\n",
    "\n",
    "heights =  [178,177,176,177,178.2,178,175,179,180,175,178.9,176.2,177,172.5,178,176.5]"
   ]
  },
  {
   "cell_type": "code",
   "execution_count": 21,
   "id": "d51a567d-e060-4572-b9e5-806271183b90",
   "metadata": {},
   "outputs": [
    {
     "data": {
      "text/plain": [
       "[178,\n",
       " 177,\n",
       " 176,\n",
       " 177,\n",
       " 178.2,\n",
       " 178,\n",
       " 175,\n",
       " 179,\n",
       " 180,\n",
       " 175,\n",
       " 178.9,\n",
       " 176.2,\n",
       " 177,\n",
       " 172.5,\n",
       " 178,\n",
       " 176.5]"
      ]
     },
     "execution_count": 21,
     "metadata": {},
     "output_type": "execute_result"
    }
   ],
   "source": [
    "heights"
   ]
  },
  {
   "cell_type": "code",
   "execution_count": 22,
   "id": "8917e897-cc0a-445c-b85d-457c95432e3c",
   "metadata": {},
   "outputs": [
    {
     "data": {
      "text/plain": [
       "177.01875"
      ]
     },
     "execution_count": 22,
     "metadata": {},
     "output_type": "execute_result"
    }
   ],
   "source": [
    "np.mean(heights)"
   ]
  },
  {
   "cell_type": "code",
   "execution_count": 23,
   "id": "cd82b3e2-608a-4b98-8902-0d31c50356ca",
   "metadata": {},
   "outputs": [
    {
     "data": {
      "text/plain": [
       "177.0"
      ]
     },
     "execution_count": 23,
     "metadata": {},
     "output_type": "execute_result"
    }
   ],
   "source": [
    "np.median(heights)"
   ]
  },
  {
   "cell_type": "code",
   "execution_count": 24,
   "id": "84a23171-080d-4765-9cf7-eb254004609b",
   "metadata": {},
   "outputs": [
    {
     "name": "stderr",
     "output_type": "stream",
     "text": [
      "/tmp/ipykernel_77/4138256802.py:1: FutureWarning: Unlike other reduction functions (e.g. `skew`, `kurtosis`), the default behavior of `mode` typically preserves the axis it acts along. In SciPy 1.11.0, this behavior will change: the default value of `keepdims` will become False, the `axis` over which the statistic is taken will be eliminated, and the value None will no longer be accepted. Set `keepdims` to True or False to avoid this warning.\n",
      "  stats.mode(heights)\n"
     ]
    },
    {
     "data": {
      "text/plain": [
       "ModeResult(mode=array([177.]), count=array([3]))"
      ]
     },
     "execution_count": 24,
     "metadata": {},
     "output_type": "execute_result"
    }
   ],
   "source": [
    "stats.mode(heights)"
   ]
  },
  {
   "cell_type": "code",
   "execution_count": 25,
   "id": "96ab03d3-29b5-4266-a8bd-31a983c0b3e5",
   "metadata": {},
   "outputs": [
    {
     "data": {
      "text/plain": [
       "'Q4. Find the standard deviation for the given data:\\n\\n[178,177,176,177,178.2,178,175,179,180,175,178.9,176.2,177,172.5,178,176.5]'"
      ]
     },
     "execution_count": 25,
     "metadata": {},
     "output_type": "execute_result"
    }
   ],
   "source": [
    "'''Q4. Find the standard deviation for the given data:\n",
    "\n",
    "[178,177,176,177,178.2,178,175,179,180,175,178.9,176.2,177,172.5,178,176.5]'''"
   ]
  },
  {
   "cell_type": "code",
   "execution_count": 26,
   "id": "5f23b1f7-c6ac-43e4-be31-6d301225de13",
   "metadata": {},
   "outputs": [],
   "source": [
    "# given data - [178,177,176,177,178.2,178,175,179,180,175,178.9,176.2,177,172.5,178,176.5]\n",
    "\n",
    "data = [178,177,176,177,178.2,178,175,179,180,175,178.9,176.2,177,172.5,178,176.5]"
   ]
  },
  {
   "cell_type": "code",
   "execution_count": 27,
   "id": "3b5350fd-196f-4cff-9517-a2221baad195",
   "metadata": {},
   "outputs": [
    {
     "data": {
      "text/plain": [
       "[178,\n",
       " 177,\n",
       " 176,\n",
       " 177,\n",
       " 178.2,\n",
       " 178,\n",
       " 175,\n",
       " 179,\n",
       " 180,\n",
       " 175,\n",
       " 178.9,\n",
       " 176.2,\n",
       " 177,\n",
       " 172.5,\n",
       " 178,\n",
       " 176.5]"
      ]
     },
     "execution_count": 27,
     "metadata": {},
     "output_type": "execute_result"
    }
   ],
   "source": [
    "data"
   ]
  },
  {
   "cell_type": "code",
   "execution_count": 28,
   "id": "cae0ab65-1ba4-420a-9cab-45ec05188556",
   "metadata": {},
   "outputs": [
    {
     "data": {
      "text/plain": [
       "1.7885814036548633"
      ]
     },
     "execution_count": 28,
     "metadata": {},
     "output_type": "execute_result"
    }
   ],
   "source": [
    "np.std(data)"
   ]
  },
  {
   "cell_type": "code",
   "execution_count": 29,
   "id": "2dc4af10-8d7f-434e-a57b-988964af79b1",
   "metadata": {},
   "outputs": [
    {
     "data": {
      "text/plain": [
       "3.199023437500001"
      ]
     },
     "execution_count": 29,
     "metadata": {},
     "output_type": "execute_result"
    }
   ],
   "source": [
    "np.var(data)"
   ]
  },
  {
   "cell_type": "code",
   "execution_count": 30,
   "id": "18161e75-6aa7-40ed-b59e-3c1853c5f10e",
   "metadata": {},
   "outputs": [
    {
     "data": {
      "text/plain": [
       "'Q5. How are measures of dispersion such as range, variance, and standard deviation used to describe \\nthe spread of a dataset? Provide an example.'"
      ]
     },
     "execution_count": 30,
     "metadata": {},
     "output_type": "execute_result"
    }
   ],
   "source": [
    "'''Q5. How are measures of dispersion such as range, variance, and standard deviation used to describe \n",
    "the spread of a dataset? Provide an example.'''"
   ]
  },
  {
   "cell_type": "code",
   "execution_count": 31,
   "id": "633c869b-ea21-416e-83c4-eb63d06d1fb2",
   "metadata": {},
   "outputs": [
    {
     "data": {
      "text/plain": [
       "'Dispersion of data used to understands the distribution of data. It helps to understand the variation of data and provides a piece\\nof information about the distribution data. Range, IOR, Variance, and Standard Deviation are the methods used to understand the distribution\\ndata.'"
      ]
     },
     "execution_count": 31,
     "metadata": {},
     "output_type": "execute_result"
    }
   ],
   "source": [
    "'''Dispersion of data used to understands the distribution of data. It helps to understand the variation of data and provides a piece\n",
    "of information about the distribution data. Range, IOR, Variance, and Standard Deviation are the methods used to understand the distribution\n",
    "data.'''"
   ]
  },
  {
   "cell_type": "code",
   "execution_count": 35,
   "id": "c8ebe65e-de44-4b9b-9d59-35b79de75412",
   "metadata": {},
   "outputs": [
    {
     "data": {
      "text/plain": [
       "'  Range = Highest_value  – Lowest_value '"
      ]
     },
     "execution_count": 35,
     "metadata": {},
     "output_type": "execute_result"
    }
   ],
   "source": [
    "# RANGE \n",
    "\n",
    "# The range is the easiest dispersion of data or measure of variability. The range can measure by subtracting the lowest value from\n",
    "# the massive Number. The wide range indicates high variability, and the small range specifies low variability in the distribution. \n",
    "# To calculate a range, prepare all the values in ascending order, then subtract the lowest value from the highest value.\n",
    "\n",
    " \n",
    "\n",
    "'''  Range = Highest_value  – Lowest_value '''\n",
    "\n",
    "# Age = [54,34,76,26,44,17,35,29]\n",
    "\n",
    "# so here range will be = 76 - 17 = 59"
   ]
  },
  {
   "cell_type": "code",
   "execution_count": 37,
   "id": "ced7aebb-15e5-448a-8d80-6bcbd07a1973",
   "metadata": {},
   "outputs": [],
   "source": [
    "# VARIANCE\n",
    "\n",
    "# Variance is a simple measure of dispersion. Variance measures how far each number in the dataset from the mean. To compute variance\n",
    "# first, calculate the mean and squared deviations from a mean."
   ]
  },
  {
   "cell_type": "code",
   "execution_count": 38,
   "id": "a524119a-27fd-4e84-a0cd-fc73696af668",
   "metadata": {},
   "outputs": [],
   "source": [
    "# lets take an example to understand.....\n",
    "\n",
    "Gd = [10,20,30,40,50,60,70,80,90,100]"
   ]
  },
  {
   "cell_type": "code",
   "execution_count": 40,
   "id": "6fa4746e-39d6-4cb7-8d45-e7cfbdfae0a6",
   "metadata": {},
   "outputs": [
    {
     "data": {
      "text/plain": [
       "[10, 20, 30, 40, 50, 60, 70, 80, 90, 100]"
      ]
     },
     "execution_count": 40,
     "metadata": {},
     "output_type": "execute_result"
    }
   ],
   "source": [
    "Gd"
   ]
  },
  {
   "cell_type": "code",
   "execution_count": 41,
   "id": "e41a1f97-8ba7-42a0-a526-afead59ce46f",
   "metadata": {},
   "outputs": [
    {
     "data": {
      "text/plain": [
       "825.0"
      ]
     },
     "execution_count": 41,
     "metadata": {},
     "output_type": "execute_result"
    }
   ],
   "source": [
    "np.var(Gd)"
   ]
  },
  {
   "cell_type": "code",
   "execution_count": 42,
   "id": "6295bd67-a670-493a-9465-4d0e65bf9eb5",
   "metadata": {},
   "outputs": [],
   "source": [
    "# STANDARD DEVIATION\n",
    "\n",
    "# Standard deviation is a squared root of the variance to get original values. Low standard deviation indicates data points close \n",
    "# to mean."
   ]
  },
  {
   "cell_type": "code",
   "execution_count": 43,
   "id": "5cc4a9f6-7732-4bf3-9cb5-616150819b18",
   "metadata": {},
   "outputs": [],
   "source": [
    "# eg - lets take the above example to calculate sd\n",
    "\n",
    "Gd = [10,20,30,40,50,60,70,80,90,100]"
   ]
  },
  {
   "cell_type": "code",
   "execution_count": 44,
   "id": "629186f6-5a05-463e-929c-401eaf438781",
   "metadata": {},
   "outputs": [
    {
     "data": {
      "text/plain": [
       "[10, 20, 30, 40, 50, 60, 70, 80, 90, 100]"
      ]
     },
     "execution_count": 44,
     "metadata": {},
     "output_type": "execute_result"
    }
   ],
   "source": [
    "Gd"
   ]
  },
  {
   "cell_type": "code",
   "execution_count": 45,
   "id": "edb83010-5e73-4252-b90c-c4355ba4e736",
   "metadata": {},
   "outputs": [
    {
     "data": {
      "text/plain": [
       "28.722813232690143"
      ]
     },
     "execution_count": 45,
     "metadata": {},
     "output_type": "execute_result"
    }
   ],
   "source": [
    "np.std(Gd)"
   ]
  },
  {
   "cell_type": "code",
   "execution_count": 46,
   "id": "993e24c3-f1fa-4459-bec0-4d1a6cce5311",
   "metadata": {},
   "outputs": [
    {
     "data": {
      "text/plain": [
       "'Q6. What is a Venn diagram?'"
      ]
     },
     "execution_count": 46,
     "metadata": {},
     "output_type": "execute_result"
    }
   ],
   "source": [
    "'''Q6. What is a Venn diagram?'''"
   ]
  },
  {
   "cell_type": "code",
   "execution_count": 47,
   "id": "3bc2c359-0f4a-4992-8922-8e6c8d81c596",
   "metadata": {},
   "outputs": [
    {
     "data": {
      "text/plain": [
       "'A Venn diagram is a visual tool used to compare and contrast two or more objects, events, people, or concepts. It is often used in\\nlanguage arts and math classes to organize differences and similarities. This simple graphic makes it easy for students to understand \\nhow two things are both different and alike at the same time.'"
      ]
     },
     "execution_count": 47,
     "metadata": {},
     "output_type": "execute_result"
    }
   ],
   "source": [
    "'''A Venn diagram is a visual tool used to compare and contrast two or more objects, events, people, or concepts. It is often used in\n",
    "language arts and math classes to organize differences and similarities. This simple graphic makes it easy for students to understand \n",
    "how two things are both different and alike at the same time.'''\n",
    "\n",
    "# What Is a Venn Diagram?\n",
    "\n",
    "# A Venn diagram can become complicated, but in its simplest form, it is two circles that overlap in the middle.\n",
    "\n",
    "# 1. Each circle represents one item that is being compared: Item 1 and item 2.\n",
    "# 2. One circle contains the qualities that are unique to item 1. The other circle contains the qualities unique to item 2.\n",
    "# 3. The area where the circles overlap contains qualities that both item 1 and item 2 have in common."
   ]
  },
  {
   "cell_type": "code",
   "execution_count": 48,
   "id": "6946aa32-0876-40c2-b2d7-bd70585344a6",
   "metadata": {},
   "outputs": [
    {
     "data": {
      "text/plain": [
       "'Q7. For the two given sets A = (2,3,4,5,6,7) & B = (0,2,6,8,10). Find:\\n\\n(i) \\tA intersection B\\n\\n(ii)\\tA ⋃ B'"
      ]
     },
     "execution_count": 48,
     "metadata": {},
     "output_type": "execute_result"
    }
   ],
   "source": [
    "'''Q7. For the two given sets A = (2,3,4,5,6,7) & B = (0,2,6,8,10). Find:\n",
    "\n",
    "(i) \tA intersection B\n",
    "\n",
    "(ii)\tA ⋃ B'''"
   ]
  },
  {
   "cell_type": "code",
   "execution_count": 56,
   "id": "2213452d-90fe-4034-b3af-9301538e84c8",
   "metadata": {},
   "outputs": [
    {
     "name": "stdout",
     "output_type": "stream",
     "text": [
      "array1  [2 3 4 5 6 7]\n",
      "array2  [ 0  2  6  8 10]\n",
      "Union of two arrays : [ 0  2  3  4  5  6  7  8 10]\n"
     ]
    }
   ],
   "source": [
    "import numpy as np\n",
    "A = np.array([2,3,4,5,6,7])\n",
    "print(\"array1 \", A)\n",
    "B = np.array([0,2,6,8,10])\n",
    "print(\"array2 \", B)\n",
    "# print union of the two arrays\n",
    "print(\"Union of two arrays :\", np.union1d(A,B))"
   ]
  },
  {
   "cell_type": "code",
   "execution_count": 57,
   "id": "688bd78c-5c36-4a6f-9b8e-de2a0702765e",
   "metadata": {},
   "outputs": [
    {
     "name": "stdout",
     "output_type": "stream",
     "text": [
      "array1  [2 3 4 5 6 7]\n",
      "array2  [ 0  2  6  8 10]\n",
      "Union of two arrays : [2 6]\n"
     ]
    }
   ],
   "source": [
    "A = np.array([2,3,4,5,6,7])\n",
    "print(\"array1 \", A)\n",
    "B = np.array([0,2,6,8,10])\n",
    "print(\"array2 \", B)\n",
    "# print intersection of the two arrays\n",
    "print(\"Intersection of two arrays :\", np.intersect1d(A,B))"
   ]
  },
  {
   "cell_type": "code",
   "execution_count": 58,
   "id": "88c9f14a-abcc-41fc-9ac3-73c5e6329b3e",
   "metadata": {},
   "outputs": [
    {
     "data": {
      "text/plain": [
       "'Q8. What do you understand about skewness in data?'"
      ]
     },
     "execution_count": 58,
     "metadata": {},
     "output_type": "execute_result"
    }
   ],
   "source": [
    "'''Q8. What do you understand about skewness in data?'''"
   ]
  },
  {
   "cell_type": "code",
   "execution_count": 59,
   "id": "1ab60a2b-cdfd-4960-ad8a-f8b495286b9d",
   "metadata": {},
   "outputs": [
    {
     "data": {
      "text/plain": [
       "'Skewness is a measure of the asymmetry of a distribution. A distribution is asymmetrical when its left and right side are not mirror\\nimages. A distribution can have right (or positive), left (or negative), or zero skewness.'"
      ]
     },
     "execution_count": 59,
     "metadata": {},
     "output_type": "execute_result"
    }
   ],
   "source": [
    "'''Skewness is a measure of the asymmetry of a distribution. A distribution is asymmetrical when its left and right side are not mirror\n",
    "images. A distribution can have right (or positive), left (or negative), or zero skewness.'''"
   ]
  },
  {
   "cell_type": "code",
   "execution_count": 60,
   "id": "0109c73e-b140-4ed4-b338-3b4c6e7b22ce",
   "metadata": {},
   "outputs": [
    {
     "data": {
      "text/plain": [
       "'Q9. If a data is right skewed then what will be the position of median with respect to mean?'"
      ]
     },
     "execution_count": 60,
     "metadata": {},
     "output_type": "execute_result"
    }
   ],
   "source": [
    "'''Q9. If a data is right skewed then what will be the position of median with respect to mean?'''"
   ]
  },
  {
   "cell_type": "code",
   "execution_count": 61,
   "id": "218f4370-6c84-44eb-8424-1b8b00853fa2",
   "metadata": {},
   "outputs": [
    {
     "data": {
      "text/plain": [
       "' If the data is right skewed then the position of the median wlll be in the right side of the mean'"
      ]
     },
     "execution_count": 61,
     "metadata": {},
     "output_type": "execute_result"
    }
   ],
   "source": [
    "''' If the data is right skewed then the position of the median wlll be in the right side of the mean'''"
   ]
  },
  {
   "cell_type": "code",
   "execution_count": 63,
   "id": "60d83269-e332-4f6f-b5eb-107d62b9add1",
   "metadata": {},
   "outputs": [
    {
     "data": {
      "text/plain": [
       "'Q10. Explain the difference between covariance and correlation. How are these measures used in \\nstatistical analysis?'"
      ]
     },
     "execution_count": 63,
     "metadata": {},
     "output_type": "execute_result"
    }
   ],
   "source": [
    "'''Q10. Explain the difference between covariance and correlation. How are these measures used in \n",
    "statistical analysis?'''"
   ]
  },
  {
   "cell_type": "code",
   "execution_count": 64,
   "id": "a47542ac-bb12-453d-b479-858523eb328b",
   "metadata": {},
   "outputs": [
    {
     "data": {
      "text/plain": [
       "'he function of covariance is a correlation. The values of correlation are standardised, but covariance \\nvalues are not. The correlation coefficient can be obtained by dividing the covariance of the variables by the product of their\\nstandard deviation values. Standard deviation measures the variability of datasets absolutely. When it is divided by the standard \\ndeviation, it falls in the range of -1 to +1, which is the range of correlation values. The normalised form of covariance is a\\ncorrelation.\\n\\n\\nIn the formula of covariance, the units are assumed from the product of the units of the variables. Correlation is non-dimensional.\\nIt is a measure of the relationship between the variables. The covariance value is affected by the change of scale in the variables.\\nIf all the values of one variable are multiplied to a constant and all the values of the other variable are multiplied by a similar \\nor a different constant, the covariance value changes. Doing the same, the correlation value is not affected by the change in the \\nscale of the variables.'"
      ]
     },
     "execution_count": 64,
     "metadata": {},
     "output_type": "execute_result"
    }
   ],
   "source": [
    "'''he function of covariance is a correlation. The values of correlation are standardised, but covariance \n",
    "values are not. The correlation coefficient can be obtained by dividing the covariance of the variables by the product of their\n",
    "standard deviation values. Standard deviation measures the variability of datasets absolutely. When it is divided by the standard \n",
    "deviation, it falls in the range of -1 to +1, which is the range of correlation values. The normalised form of covariance is a\n",
    "correlation.\n",
    "\n",
    "\n",
    "In the formula of covariance, the units are assumed from the product of the units of the variables. Correlation is non-dimensional.\n",
    "It is a measure of the relationship between the variables. The covariance value is affected by the change of scale in the variables.\n",
    "If all the values of one variable are multiplied to a constant and all the values of the other variable are multiplied by a similar \n",
    "or a different constant, the covariance value changes. Doing the same, the correlation value is not affected by the change in the \n",
    "scale of the variables.'''"
   ]
  },
  {
   "cell_type": "code",
   "execution_count": 65,
   "id": "05e55e9f-786e-4e1c-a75b-33eb69e41284",
   "metadata": {},
   "outputs": [],
   "source": [
    "# Basis\t\tCovariance\t\tCorrelation\n",
    "# Meaning\t\tCovariance indicates the extent of the variables being dependent on each other. A higher value denotes higher dependency.\t||\tCorrelation signifies the strength of association between the variables when the other things are constant.\n",
    "# Relationship\t\tCorrelation can be gathered from covariance.\t||\tCorrelation gives the value of covariance on a standard scale.\n",
    "# Values\t\tLie between -∞ and +∞\t||\tCorrelation has limited values in the range of -1 and +1.\n",
    "# Scalability\t\tAffects covariance\t ||\tCorrelation isn’t affected by a change in scale.\n",
    "# Units\t\tThe covariance will have a definite unit, as it is concluded from the multiplication of numbers and their units.\t||\tCorrelation is a number without units but includes decimal values."
   ]
  },
  {
   "cell_type": "code",
   "execution_count": 66,
   "id": "c3e51b5f-ca26-4133-9dfe-13fb3d4a5af4",
   "metadata": {},
   "outputs": [
    {
     "data": {
      "text/plain": [
       "'Q11. What is the formula for calculating the sample mean? Provide an example calculation for a \\ndataset'"
      ]
     },
     "execution_count": 66,
     "metadata": {},
     "output_type": "execute_result"
    }
   ],
   "source": [
    "'''Q11. What is the formula for calculating the sample mean? Provide an example calculation for a \n",
    "dataset'''"
   ]
  },
  {
   "cell_type": "code",
   "execution_count": 68,
   "id": "c41d6386-68c7-47c5-9d7c-670a96a4873e",
   "metadata": {},
   "outputs": [
    {
     "data": {
      "text/plain": [
       "'A sample is a subset of a bigger population of data. The sample mean formula is used to get the average value of a set of sample\\ndata. It is defined as the average of the sample’s measurements. If the sample is chosen at random, the sample mean may be used to\\ncalculate the population mean. It represents the assessment of the data’s centre and is used to determine the mean of any population.\\n\\nSample Mean Formula\\n\\nThe sample mean for a data set is defined as the sum of all the terms divided by the total number of terms. It is denoted by the symbol x̄.'"
      ]
     },
     "execution_count": 68,
     "metadata": {},
     "output_type": "execute_result"
    }
   ],
   "source": [
    "'''A sample is a subset of a bigger population of data. The sample mean formula is used to get the average value of a set of sample\n",
    "data. It is defined as the average of the sample’s measurements. If the sample is chosen at random, the sample mean may be used to\n",
    "calculate the population mean. It represents the assessment of the data’s centre and is used to determine the mean of any population.\n",
    "\n",
    "Sample Mean Formula\n",
    "\n",
    "The sample mean for a data set is defined as the sum of all the terms divided by the total number of terms. It is denoted by the symbol x̄.'''\n",
    "\n",
    "# x̄ = Σxi / n"
   ]
  },
  {
   "cell_type": "code",
   "execution_count": 69,
   "id": "9b9edf8b-3bbc-4aef-a19c-3e61793d809e",
   "metadata": {},
   "outputs": [],
   "source": [
    "# Lets take an example to understand the sample mean...\n",
    "\n",
    "marks = [10,20,30,40,50,60,70,80,90,45,56,76,98,72,23,24,16,39]"
   ]
  },
  {
   "cell_type": "code",
   "execution_count": 70,
   "id": "b920ae6f-d49b-42e9-b340-a584bb38c4ea",
   "metadata": {},
   "outputs": [
    {
     "data": {
      "text/plain": [
       "[10, 20, 30, 40, 50, 60, 70, 80, 90, 45, 56, 76, 98, 72, 23, 24, 16, 39]"
      ]
     },
     "execution_count": 70,
     "metadata": {},
     "output_type": "execute_result"
    }
   ],
   "source": [
    "marks"
   ]
  },
  {
   "cell_type": "code",
   "execution_count": 71,
   "id": "6ce186e3-de01-4917-8364-1421469b3529",
   "metadata": {},
   "outputs": [
    {
     "data": {
      "text/plain": [
       "49.94444444444444"
      ]
     },
     "execution_count": 71,
     "metadata": {},
     "output_type": "execute_result"
    }
   ],
   "source": [
    "np.mean(marks)"
   ]
  },
  {
   "cell_type": "code",
   "execution_count": 72,
   "id": "ed33d4c4-e9e1-4ae6-a466-eb6c12f26b12",
   "metadata": {},
   "outputs": [],
   "source": [
    "number = [1,4,6,2,8,9,3,29,69,100,2000,345,654,98]"
   ]
  },
  {
   "cell_type": "code",
   "execution_count": 73,
   "id": "0374cd97-5844-4c51-a0eb-e3eb319a0fe0",
   "metadata": {},
   "outputs": [
    {
     "data": {
      "text/plain": [
       "[1, 4, 6, 2, 8, 9, 3, 29, 69, 100, 2000, 345, 654, 98]"
      ]
     },
     "execution_count": 73,
     "metadata": {},
     "output_type": "execute_result"
    }
   ],
   "source": [
    "number"
   ]
  },
  {
   "cell_type": "code",
   "execution_count": 74,
   "id": "da5c3301-d3c4-47d4-ae38-6615fa740a87",
   "metadata": {},
   "outputs": [
    {
     "data": {
      "text/plain": [
       "237.71428571428572"
      ]
     },
     "execution_count": 74,
     "metadata": {},
     "output_type": "execute_result"
    }
   ],
   "source": [
    "np.mean(number)"
   ]
  },
  {
   "cell_type": "code",
   "execution_count": 75,
   "id": "35767297-f73d-4555-9b7a-5a951183bd93",
   "metadata": {},
   "outputs": [
    {
     "data": {
      "text/plain": [
       "'Q12. For a normal distribution data what is the relationship between its measure of central tendency?'"
      ]
     },
     "execution_count": 75,
     "metadata": {},
     "output_type": "execute_result"
    }
   ],
   "source": [
    "'''Q12. For a normal distribution data what is the relationship between its measure of central tendency?'''"
   ]
  },
  {
   "cell_type": "code",
   "execution_count": 76,
   "id": "005d934e-8933-49b6-990b-b6d9ffbb60a0",
   "metadata": {},
   "outputs": [
    {
     "data": {
      "text/plain": [
       "'For a normal distribution data, all measures of central tendency (most commonly, the mean, median, and mode) give the same answer: \\nthe x-value of the peak. The mean determines the location of the peak, and most of the data points are clustered around the mean in\\na normal distribution graph2. In a negatively skewed distribution, the general relationship between the central tendency is\\nMode > Median > Mean3.'"
      ]
     },
     "execution_count": 76,
     "metadata": {},
     "output_type": "execute_result"
    }
   ],
   "source": [
    "'''For a normal distribution data, all measures of central tendency (most commonly, the mean, median, and mode) give the same answer: \n",
    "the x-value of the peak. The mean determines the location of the peak, and most of the data points are clustered around the mean in\n",
    "a normal distribution graph2. In a negatively skewed distribution, the general relationship between the central tendency is\n",
    "Mode > Median > Mean3.'''"
   ]
  },
  {
   "cell_type": "code",
   "execution_count": 77,
   "id": "1b5e2b07-7e10-496e-b9b9-8f357465054a",
   "metadata": {},
   "outputs": [
    {
     "data": {
      "text/plain": [
       "'Q13. How is covariance different from correlation?'"
      ]
     },
     "execution_count": 77,
     "metadata": {},
     "output_type": "execute_result"
    }
   ],
   "source": [
    "'''Q13. How is covariance different from correlation?'''"
   ]
  },
  {
   "cell_type": "code",
   "execution_count": 78,
   "id": "1544f0bc-36eb-4f99-b280-d69a401c5a05",
   "metadata": {},
   "outputs": [
    {
     "data": {
      "text/plain": [
       "'Put simply: we use both of these concepts to understand relationships between data variables and values. We can quantify the\\nrelationship between variables and then use these learnings to either select, add or alter variables for predictive modeling, insight \\ngeneration or even storytelling using data. Thus, both correlation and covariance have high utility in machine learning and data\\nanalysis. To learn more, let’s dive in!'"
      ]
     },
     "execution_count": 78,
     "metadata": {},
     "output_type": "execute_result"
    }
   ],
   "source": [
    "# Covariance vs. correlation are two distinct concepts in statistics and probability theory, but what do they actually mean in practice? More importantly, when do we use them? \n",
    "\n",
    "'''Put simply: we use both of these concepts to understand relationships between data variables and values. We can quantify the\n",
    "relationship between variables and then use these learnings to either select, add or alter variables for predictive modeling, insight \n",
    "generation or even storytelling using data. Thus, both correlation and covariance have high utility in machine learning and data\n",
    "analysis. To learn more, let’s dive in!'''"
   ]
  },
  {
   "cell_type": "code",
   "execution_count": 79,
   "id": "e3e5c4d9-fcc3-4f85-905e-37220203c541",
   "metadata": {},
   "outputs": [],
   "source": [
    "# COVARIANCE VS. CORRELATION\n",
    "\n",
    "# Covariance reveals how two variables change together while correlation determines how closely two variables are related to each other.\n",
    "\n",
    "# Both covariance and correlation measure the relationship and the dependency between two variables.\n",
    "# Covariance indicates the direction of the linear relationship between variables.\n",
    "# Correlation measures both the strength and direction of the linear relationship between two variables.\n",
    "# Correlation values are standardized.\n",
    "# Covariance values are not standardized."
   ]
  },
  {
   "cell_type": "code",
   "execution_count": 81,
   "id": "c5e39c02-4c05-4064-985e-3acb715bedc9",
   "metadata": {},
   "outputs": [
    {
     "data": {
      "text/plain": [
       "'Q14. How do outliers affect measures of central tendency and dispersion? Provide an example.'"
      ]
     },
     "execution_count": 81,
     "metadata": {},
     "output_type": "execute_result"
    }
   ],
   "source": [
    "'''Q14. How do outliers affect measures of central tendency and dispersion? Provide an example.'''"
   ]
  },
  {
   "cell_type": "code",
   "execution_count": 82,
   "id": "501af13e-1421-453b-9923-40e112477c20",
   "metadata": {},
   "outputs": [
    {
     "data": {
      "text/plain": [
       "' The outliers also affects the central tendency and dispersion,,,, lets take an example to understand this'"
      ]
     },
     "execution_count": 82,
     "metadata": {},
     "output_type": "execute_result"
    }
   ],
   "source": [
    "''' The outliers also affects the central tendency and dispersion,,,, lets take an example to understand this'''"
   ]
  },
  {
   "cell_type": "code",
   "execution_count": 83,
   "id": "f5d24d5a-2dc3-45a0-9bd6-8e07ad910bd5",
   "metadata": {},
   "outputs": [],
   "source": [
    "# let there is an list of number....\n",
    "\n",
    "marks = [15,45,65,87,34,26,74,98,85,58,47,16]"
   ]
  },
  {
   "cell_type": "code",
   "execution_count": 84,
   "id": "094f4c58-a177-425a-ac0b-97f7c255c71d",
   "metadata": {},
   "outputs": [
    {
     "data": {
      "text/plain": [
       "[15, 45, 65, 87, 34, 26, 74, 98, 85, 58, 47, 16]"
      ]
     },
     "execution_count": 84,
     "metadata": {},
     "output_type": "execute_result"
    }
   ],
   "source": [
    "marks"
   ]
  },
  {
   "cell_type": "code",
   "execution_count": 85,
   "id": "f827461f-d490-4c56-a9ed-65918503bb3d",
   "metadata": {},
   "outputs": [
    {
     "data": {
      "text/plain": [
       "54.166666666666664"
      ]
     },
     "execution_count": 85,
     "metadata": {},
     "output_type": "execute_result"
    }
   ],
   "source": [
    "np.mean(marks)"
   ]
  },
  {
   "cell_type": "code",
   "execution_count": 86,
   "id": "b299d433-39cf-4e4c-a723-3780e113a724",
   "metadata": {},
   "outputs": [],
   "source": [
    "# if their is an outlier present in the list like 1000\n",
    "\n",
    "\n",
    "marks = [15,45,65,87,34,26,74,98,85,58,47,16,1000]"
   ]
  },
  {
   "cell_type": "code",
   "execution_count": 87,
   "id": "0b0bcfd3-7429-4bc0-b142-a0c1d415886f",
   "metadata": {},
   "outputs": [
    {
     "data": {
      "text/plain": [
       "126.92307692307692"
      ]
     },
     "execution_count": 87,
     "metadata": {},
     "output_type": "execute_result"
    }
   ],
   "source": [
    "np.mean(marks)"
   ]
  },
  {
   "cell_type": "code",
   "execution_count": null,
   "id": "b564f859-775b-4a7b-bbc8-003f867ee61c",
   "metadata": {},
   "outputs": [],
   "source": [
    "# Then here we can see thst there is a lot of deviation in the mean thats why we said that the outliers affects the central tendency."
   ]
  }
 ],
 "metadata": {
  "kernelspec": {
   "display_name": "Python 3 (ipykernel)",
   "language": "python",
   "name": "python3"
  },
  "language_info": {
   "codemirror_mode": {
    "name": "ipython",
    "version": 3
   },
   "file_extension": ".py",
   "mimetype": "text/x-python",
   "name": "python",
   "nbconvert_exporter": "python",
   "pygments_lexer": "ipython3",
   "version": "3.10.8"
  }
 },
 "nbformat": 4,
 "nbformat_minor": 5
}
